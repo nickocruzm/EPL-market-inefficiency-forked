{
 "cells": [
  {
   "cell_type": "code",
   "execution_count": 1,
   "metadata": {},
   "outputs": [],
   "source": [
    "import tensorflow as tf\n",
    "import pandas as pd\n",
    "import numpy as np\n",
    "import torch\n"
   ]
  },
  {
   "cell_type": "code",
   "execution_count": 9,
   "metadata": {},
   "outputs": [
    {
     "name": "stdout",
     "output_type": "stream",
     "text": [
      "tensor([[53., 62.],\n",
      "        [69., 80.]])\n",
      "tensor([[54., 63.],\n",
      "        [71., 82.]])\n"
     ]
    }
   ],
   "source": [
    "A = torch.Tensor([[3,7],[4,9]])\n",
    "B = torch.Tensor([[6,2],[5,8]])\n",
    "\n",
    "b = torch.Tensor([[1],[2]])\n",
    "C = A@B\n",
    "print(C)\n",
    "W = C + b\n",
    "print(W)\n"
   ]
  },
  {
   "cell_type": "code",
   "execution_count": 23,
   "metadata": {},
   "outputs": [
    {
     "data": {
      "text/html": [
       "<div>\n",
       "<style scoped>\n",
       "    .dataframe tbody tr th:only-of-type {\n",
       "        vertical-align: middle;\n",
       "    }\n",
       "\n",
       "    .dataframe tbody tr th {\n",
       "        vertical-align: top;\n",
       "    }\n",
       "\n",
       "    .dataframe thead th {\n",
       "        text-align: right;\n",
       "    }\n",
       "</style>\n",
       "<table border=\"1\" class=\"dataframe\">\n",
       "  <thead>\n",
       "    <tr style=\"text-align: right;\">\n",
       "      <th></th>\n",
       "      <th>match_id</th>\n",
       "      <th>date</th>\n",
       "      <th>home_team</th>\n",
       "      <th>away_team</th>\n",
       "      <th>result</th>\n",
       "    </tr>\n",
       "  </thead>\n",
       "  <tbody>\n",
       "    <tr>\n",
       "      <th>0</th>\n",
       "      <td>EPL2425_001</td>\n",
       "      <td>2024-08-12</td>\n",
       "      <td>Everton</td>\n",
       "      <td>Liverpool</td>\n",
       "      <td>1</td>\n",
       "    </tr>\n",
       "    <tr>\n",
       "      <th>1</th>\n",
       "      <td>EPL2425_002</td>\n",
       "      <td>2024-08-11</td>\n",
       "      <td>West Ham</td>\n",
       "      <td>Newcastle</td>\n",
       "      <td>2</td>\n",
       "    </tr>\n",
       "    <tr>\n",
       "      <th>2</th>\n",
       "      <td>EPL2425_003</td>\n",
       "      <td>2024-08-11</td>\n",
       "      <td>Chelsea</td>\n",
       "      <td>Brighton</td>\n",
       "      <td>2</td>\n",
       "    </tr>\n",
       "    <tr>\n",
       "      <th>3</th>\n",
       "      <td>EPL2425_004</td>\n",
       "      <td>2024-08-11</td>\n",
       "      <td>Burnley</td>\n",
       "      <td>Arsenal</td>\n",
       "      <td>0</td>\n",
       "    </tr>\n",
       "    <tr>\n",
       "      <th>4</th>\n",
       "      <td>EPL2425_005</td>\n",
       "      <td>2024-08-10</td>\n",
       "      <td>Brentford</td>\n",
       "      <td>Fulham</td>\n",
       "      <td>2</td>\n",
       "    </tr>\n",
       "    <tr>\n",
       "      <th>...</th>\n",
       "      <td>...</td>\n",
       "      <td>...</td>\n",
       "      <td>...</td>\n",
       "      <td>...</td>\n",
       "      <td>...</td>\n",
       "    </tr>\n",
       "    <tr>\n",
       "      <th>375</th>\n",
       "      <td>EPL2425_376</td>\n",
       "      <td>2025-04-28</td>\n",
       "      <td>Man United</td>\n",
       "      <td>Nottingham Forest</td>\n",
       "      <td>1</td>\n",
       "    </tr>\n",
       "    <tr>\n",
       "      <th>376</th>\n",
       "      <td>EPL2425_377</td>\n",
       "      <td>2025-04-26</td>\n",
       "      <td>Newcastle</td>\n",
       "      <td>Brentford</td>\n",
       "      <td>1</td>\n",
       "    </tr>\n",
       "    <tr>\n",
       "      <th>377</th>\n",
       "      <td>EPL2425_378</td>\n",
       "      <td>2025-04-27</td>\n",
       "      <td>Liverpool</td>\n",
       "      <td>Crystal Palace</td>\n",
       "      <td>2</td>\n",
       "    </tr>\n",
       "    <tr>\n",
       "      <th>378</th>\n",
       "      <td>EPL2425_379</td>\n",
       "      <td>2025-04-27</td>\n",
       "      <td>Burnley</td>\n",
       "      <td>Wolves</td>\n",
       "      <td>0</td>\n",
       "    </tr>\n",
       "    <tr>\n",
       "      <th>379</th>\n",
       "      <td>EPL2425_380</td>\n",
       "      <td>2025-04-27</td>\n",
       "      <td>West Ham</td>\n",
       "      <td>Tottenham</td>\n",
       "      <td>0</td>\n",
       "    </tr>\n",
       "  </tbody>\n",
       "</table>\n",
       "<p>380 rows × 5 columns</p>\n",
       "</div>"
      ],
      "text/plain": [
       "        match_id        date   home_team          away_team  result\n",
       "0    EPL2425_001  2024-08-12     Everton          Liverpool       1\n",
       "1    EPL2425_002  2024-08-11    West Ham          Newcastle       2\n",
       "2    EPL2425_003  2024-08-11     Chelsea           Brighton       2\n",
       "3    EPL2425_004  2024-08-11     Burnley            Arsenal       0\n",
       "4    EPL2425_005  2024-08-10   Brentford             Fulham       2\n",
       "..           ...         ...         ...                ...     ...\n",
       "375  EPL2425_376  2025-04-28  Man United  Nottingham Forest       1\n",
       "376  EPL2425_377  2025-04-26   Newcastle          Brentford       1\n",
       "377  EPL2425_378  2025-04-27   Liverpool     Crystal Palace       2\n",
       "378  EPL2425_379  2025-04-27     Burnley             Wolves       0\n",
       "379  EPL2425_380  2025-04-27    West Ham          Tottenham       0\n",
       "\n",
       "[380 rows x 5 columns]"
      ]
     },
     "execution_count": 23,
     "metadata": {},
     "output_type": "execute_result"
    }
   ],
   "source": [
    "path = \"../project/data\"\n",
    "matches = \"/epl_matches_2024_25.csv\"\n",
    "odds = \"/epl_odds_2024_25.csv\"\n",
    "\n",
    "df_matches = pd.read_csv(path+matches)\n",
    "df_matches"
   ]
  },
  {
   "cell_type": "code",
   "execution_count": 24,
   "metadata": {},
   "outputs": [
    {
     "data": {
      "text/html": [
       "<div>\n",
       "<style scoped>\n",
       "    .dataframe tbody tr th:only-of-type {\n",
       "        vertical-align: middle;\n",
       "    }\n",
       "\n",
       "    .dataframe tbody tr th {\n",
       "        vertical-align: top;\n",
       "    }\n",
       "\n",
       "    .dataframe thead th {\n",
       "        text-align: right;\n",
       "    }\n",
       "</style>\n",
       "<table border=\"1\" class=\"dataframe\">\n",
       "  <thead>\n",
       "    <tr style=\"text-align: right;\">\n",
       "      <th></th>\n",
       "      <th>match_id</th>\n",
       "      <th>date</th>\n",
       "      <th>home_win_odds</th>\n",
       "      <th>draw_odds</th>\n",
       "      <th>away_win_odds</th>\n",
       "    </tr>\n",
       "  </thead>\n",
       "  <tbody>\n",
       "    <tr>\n",
       "      <th>0</th>\n",
       "      <td>EPL2425_001</td>\n",
       "      <td>2024-08-12</td>\n",
       "      <td>4.60</td>\n",
       "      <td>4.93</td>\n",
       "      <td>1.88</td>\n",
       "    </tr>\n",
       "    <tr>\n",
       "      <th>1</th>\n",
       "      <td>EPL2425_002</td>\n",
       "      <td>2024-08-11</td>\n",
       "      <td>3.09</td>\n",
       "      <td>5.36</td>\n",
       "      <td>2.26</td>\n",
       "    </tr>\n",
       "    <tr>\n",
       "      <th>2</th>\n",
       "      <td>EPL2425_003</td>\n",
       "      <td>2024-08-11</td>\n",
       "      <td>2.19</td>\n",
       "      <td>5.90</td>\n",
       "      <td>3.06</td>\n",
       "    </tr>\n",
       "    <tr>\n",
       "      <th>3</th>\n",
       "      <td>EPL2425_004</td>\n",
       "      <td>2024-08-11</td>\n",
       "      <td>3.30</td>\n",
       "      <td>5.06</td>\n",
       "      <td>2.21</td>\n",
       "    </tr>\n",
       "    <tr>\n",
       "      <th>4</th>\n",
       "      <td>EPL2425_005</td>\n",
       "      <td>2024-08-10</td>\n",
       "      <td>4.18</td>\n",
       "      <td>3.36</td>\n",
       "      <td>2.41</td>\n",
       "    </tr>\n",
       "    <tr>\n",
       "      <th>...</th>\n",
       "      <td>...</td>\n",
       "      <td>...</td>\n",
       "      <td>...</td>\n",
       "      <td>...</td>\n",
       "      <td>...</td>\n",
       "    </tr>\n",
       "    <tr>\n",
       "      <th>375</th>\n",
       "      <td>EPL2425_376</td>\n",
       "      <td>2025-04-28</td>\n",
       "      <td>3.34</td>\n",
       "      <td>4.16</td>\n",
       "      <td>2.42</td>\n",
       "    </tr>\n",
       "    <tr>\n",
       "      <th>376</th>\n",
       "      <td>EPL2425_377</td>\n",
       "      <td>2025-04-26</td>\n",
       "      <td>2.26</td>\n",
       "      <td>5.67</td>\n",
       "      <td>3.01</td>\n",
       "    </tr>\n",
       "    <tr>\n",
       "      <th>377</th>\n",
       "      <td>EPL2425_378</td>\n",
       "      <td>2025-04-27</td>\n",
       "      <td>2.58</td>\n",
       "      <td>4.68</td>\n",
       "      <td>2.85</td>\n",
       "    </tr>\n",
       "    <tr>\n",
       "      <th>378</th>\n",
       "      <td>EPL2425_379</td>\n",
       "      <td>2025-04-27</td>\n",
       "      <td>2.58</td>\n",
       "      <td>3.48</td>\n",
       "      <td>3.61</td>\n",
       "    </tr>\n",
       "    <tr>\n",
       "      <th>379</th>\n",
       "      <td>EPL2425_380</td>\n",
       "      <td>2025-04-27</td>\n",
       "      <td>2.54</td>\n",
       "      <td>6.27</td>\n",
       "      <td>2.51</td>\n",
       "    </tr>\n",
       "  </tbody>\n",
       "</table>\n",
       "<p>380 rows × 5 columns</p>\n",
       "</div>"
      ],
      "text/plain": [
       "        match_id        date  home_win_odds  draw_odds  away_win_odds\n",
       "0    EPL2425_001  2024-08-12           4.60       4.93           1.88\n",
       "1    EPL2425_002  2024-08-11           3.09       5.36           2.26\n",
       "2    EPL2425_003  2024-08-11           2.19       5.90           3.06\n",
       "3    EPL2425_004  2024-08-11           3.30       5.06           2.21\n",
       "4    EPL2425_005  2024-08-10           4.18       3.36           2.41\n",
       "..           ...         ...            ...        ...            ...\n",
       "375  EPL2425_376  2025-04-28           3.34       4.16           2.42\n",
       "376  EPL2425_377  2025-04-26           2.26       5.67           3.01\n",
       "377  EPL2425_378  2025-04-27           2.58       4.68           2.85\n",
       "378  EPL2425_379  2025-04-27           2.58       3.48           3.61\n",
       "379  EPL2425_380  2025-04-27           2.54       6.27           2.51\n",
       "\n",
       "[380 rows x 5 columns]"
      ]
     },
     "execution_count": 24,
     "metadata": {},
     "output_type": "execute_result"
    }
   ],
   "source": [
    "df_odds = pd.read_csv(path+odds)\n",
    "df_odds"
   ]
  },
  {
   "cell_type": "markdown",
   "metadata": {},
   "source": [
    "# Decimal Odds\n",
    "\n",
    "- odd's that are less than 2.0 indicate team is a favorite, else team is the underdog."
   ]
  },
  {
   "cell_type": "code",
   "execution_count": 25,
   "metadata": {},
   "outputs": [],
   "source": [
    "df = pd.merge(df_matches, df_odds, on='match_id')"
   ]
  },
  {
   "cell_type": "markdown",
   "metadata": {},
   "source": [
    "# Favorite or Underdog codes\n",
    "\n",
    "- 0 , home team odd's > 2.0\n",
    "  - Home team is the underdog\n",
    "  - Away team is the favorite\n",
    "\n",
    "- 1 , home team odd's < 2.0\n",
    "  - Home team is favorite\n",
    "  - Away team is the underdog\n",
    "\n",
    "- (-1)\n",
    "  - no favorite or underdog\n"
   ]
  },
  {
   "cell_type": "code",
   "execution_count": 26,
   "metadata": {},
   "outputs": [
    {
     "data": {
      "text/plain": [
       "0              Liverpool\n",
       "1              Newcastle\n",
       "2               Brighton\n",
       "3                Arsenal\n",
       "4                 Fulham\n",
       "             ...        \n",
       "375    Nottingham Forest\n",
       "376            Brentford\n",
       "377       Crystal Palace\n",
       "378               Wolves\n",
       "379            Tottenham\n",
       "Name: favorite, Length: 380, dtype: object"
      ]
     },
     "execution_count": 26,
     "metadata": {},
     "output_type": "execute_result"
    }
   ],
   "source": [
    "favorite = []\n",
    "\n",
    "i = 0\n",
    "for odd in df['home_win_odds']:\n",
    "    if(odd < 2.0): favorite.append(df['home_team'][i])\n",
    "    \n",
    "    elif (odd > 2.0): favorite.append(df['away_team'][i])\n",
    "    \n",
    "    else:\n",
    "        favorite.append(-1)\n",
    "\n",
    "    i += 1\n",
    "    \n",
    "df['favorite'] = favorite\n",
    "df['favorite']"
   ]
  },
  {
   "cell_type": "code",
   "execution_count": null,
   "metadata": {},
   "outputs": [],
   "source": []
  },
  {
   "cell_type": "code",
   "execution_count": 71,
   "metadata": {},
   "outputs": [
    {
     "data": {
      "text/plain": [
       "favorite\n",
       "Everton              25\n",
       "Brentford            24\n",
       "Fulham               23\n",
       "Bournemouth          22\n",
       "West Ham             20\n",
       "Wolves               20\n",
       "Luton                20\n",
       "Arsenal              20\n",
       "Chelsea              19\n",
       "Brighton             19\n",
       "Liverpool            19\n",
       "Man United           18\n",
       "Tottenham            18\n",
       "Newcastle            18\n",
       "Man City             17\n",
       "Sheffield United     17\n",
       "Crystal Palace       17\n",
       "Nottingham Forest    17\n",
       "Burnley              14\n",
       "Aston Villa          13\n",
       "Name: count, dtype: int64"
      ]
     },
     "execution_count": 71,
     "metadata": {},
     "output_type": "execute_result"
    }
   ],
   "source": [
    "df['favorite'].value_counts()"
   ]
  },
  {
   "cell_type": "code",
   "execution_count": 77,
   "metadata": {},
   "outputs": [
    {
     "data": {
      "text/plain": [
       "favorite\n",
       "Crystal Palace    1\n",
       "Fulham            1\n",
       "Chelsea           1\n",
       "Liverpool         1\n",
       "Man United        1\n",
       "Luton             1\n",
       "Arsenal           1\n",
       "Brighton          1\n",
       "Man City          1\n",
       "Aston Villa       1\n",
       "Brentford         1\n",
       "Bournemouth       1\n",
       "Name: count, dtype: int64"
      ]
     },
     "execution_count": 77,
     "metadata": {},
     "output_type": "execute_result"
    }
   ],
   "source": [
    "subset = df[['home_team','away_team','result','favorite']]\n",
    "HomeTeam_favs = subset[subset['home_team'] == subset['favorite']]\n",
    "\n",
    "HomeTeam_favs['favorite'].value_counts()\n",
    "\n"
   ]
  },
  {
   "cell_type": "code",
   "execution_count": 78,
   "metadata": {},
   "outputs": [
    {
     "data": {
      "text/plain": [
       "result\n",
       "0    175\n",
       "2    105\n",
       "1    100\n",
       "Name: count, dtype: int64"
      ]
     },
     "execution_count": 78,
     "metadata": {},
     "output_type": "execute_result"
    }
   ],
   "source": [
    "df['result'].value_counts()"
   ]
  },
  {
   "cell_type": "code",
   "execution_count": null,
   "metadata": {},
   "outputs": [],
   "source": [
    "## result\n",
    "# 0: home-Win\n",
    "# 1: Draw\n",
    "# 2 Away-Win\n",
    "# ---------------------------\n",
    "\n",
    "\n",
    "df['accurate_prediction'] = [0]*df['result'].count()\n",
    "\n",
    "i = 0\n",
    "for fav in df['favorite']:\n",
    "    \n",
    "    result = df['result'][i]\n",
    "    \n",
    "    if(result == 1):\n",
    "        p = -1\n",
    "    \n",
    "    \n",
    "    # if the favorite team to win is the homeTeam and the actual result was the homeTeam winning\n",
    "    elif(fav == df['home_team'][i] and result == 0):\n",
    "        p = 1\n",
    "    \n",
    "    # if the favorite team is the awayTeam and the away team won.\n",
    "    elif(fav == df['away_team'][i] and result == 2):\n",
    "        p = 1\n",
    "    else:\n",
    "        p = 0\n",
    "\n",
    "    df['accurate_prediction'][i] = p\n",
    "    i += 1\n",
    "    \n",
    "df['accurate_prediction'].value_counts()"
   ]
  },
  {
   "cell_type": "code",
   "execution_count": 80,
   "metadata": {},
   "outputs": [
    {
     "data": {
      "text/plain": [
       "accurate_prediction\n",
       " 0    173\n",
       " 1    107\n",
       "-1    100\n",
       "Name: count, dtype: int64"
      ]
     },
     "execution_count": 80,
     "metadata": {},
     "output_type": "execute_result"
    }
   ],
   "source": [
    "df['accurate_prediction'].value_counts()"
   ]
  },
  {
   "cell_type": "code",
   "execution_count": 4,
   "metadata": {},
   "outputs": [
    {
     "data": {
      "text/html": [
       "<div>\n",
       "<style scoped>\n",
       "    .dataframe tbody tr th:only-of-type {\n",
       "        vertical-align: middle;\n",
       "    }\n",
       "\n",
       "    .dataframe tbody tr th {\n",
       "        vertical-align: top;\n",
       "    }\n",
       "\n",
       "    .dataframe thead th {\n",
       "        text-align: right;\n",
       "    }\n",
       "</style>\n",
       "<table border=\"1\" class=\"dataframe\">\n",
       "  <thead>\n",
       "    <tr style=\"text-align: right;\">\n",
       "      <th></th>\n",
       "      <th>home_win_odds</th>\n",
       "      <th>draw_odds</th>\n",
       "      <th>away_win_odds</th>\n",
       "    </tr>\n",
       "  </thead>\n",
       "  <tbody>\n",
       "    <tr>\n",
       "      <th>count</th>\n",
       "      <td>380.000000</td>\n",
       "      <td>380.000000</td>\n",
       "      <td>380.000000</td>\n",
       "    </tr>\n",
       "    <tr>\n",
       "      <th>mean</th>\n",
       "      <td>2.872974</td>\n",
       "      <td>4.299342</td>\n",
       "      <td>2.971868</td>\n",
       "    </tr>\n",
       "    <tr>\n",
       "      <th>std</th>\n",
       "      <td>0.575165</td>\n",
       "      <td>0.818925</td>\n",
       "      <td>0.592045</td>\n",
       "    </tr>\n",
       "    <tr>\n",
       "      <th>min</th>\n",
       "      <td>1.900000</td>\n",
       "      <td>2.850000</td>\n",
       "      <td>1.840000</td>\n",
       "    </tr>\n",
       "    <tr>\n",
       "      <th>25%</th>\n",
       "      <td>2.410000</td>\n",
       "      <td>3.707500</td>\n",
       "      <td>2.507500</td>\n",
       "    </tr>\n",
       "    <tr>\n",
       "      <th>50%</th>\n",
       "      <td>2.800000</td>\n",
       "      <td>4.160000</td>\n",
       "      <td>2.920000</td>\n",
       "    </tr>\n",
       "    <tr>\n",
       "      <th>75%</th>\n",
       "      <td>3.272500</td>\n",
       "      <td>4.862500</td>\n",
       "      <td>3.332500</td>\n",
       "    </tr>\n",
       "    <tr>\n",
       "      <th>max</th>\n",
       "      <td>4.630000</td>\n",
       "      <td>7.260000</td>\n",
       "      <td>4.750000</td>\n",
       "    </tr>\n",
       "  </tbody>\n",
       "</table>\n",
       "</div>"
      ],
      "text/plain": [
       "       home_win_odds   draw_odds  away_win_odds\n",
       "count     380.000000  380.000000     380.000000\n",
       "mean        2.872974    4.299342       2.971868\n",
       "std         0.575165    0.818925       0.592045\n",
       "min         1.900000    2.850000       1.840000\n",
       "25%         2.410000    3.707500       2.507500\n",
       "50%         2.800000    4.160000       2.920000\n",
       "75%         3.272500    4.862500       3.332500\n",
       "max         4.630000    7.260000       4.750000"
      ]
     },
     "execution_count": 4,
     "metadata": {},
     "output_type": "execute_result"
    }
   ],
   "source": [
    "# Load the data\n",
    "import pandas as pd\n",
    "df_odds_new = pd.read_csv('../project/data/epl_odds_2024_25.csv')\n",
    "\n",
    "# Display the distribution of odds\n",
    "df_odds_new.describe()"
   ]
  },
  {
   "cell_type": "code",
   "execution_count": 5,
   "metadata": {},
   "outputs": [
    {
     "data": {
      "text/html": [
       "<div>\n",
       "<style scoped>\n",
       "    .dataframe tbody tr th:only-of-type {\n",
       "        vertical-align: middle;\n",
       "    }\n",
       "\n",
       "    .dataframe tbody tr th {\n",
       "        vertical-align: top;\n",
       "    }\n",
       "\n",
       "    .dataframe thead th {\n",
       "        text-align: right;\n",
       "    }\n",
       "</style>\n",
       "<table border=\"1\" class=\"dataframe\">\n",
       "  <thead>\n",
       "    <tr style=\"text-align: right;\">\n",
       "      <th></th>\n",
       "      <th>match_id</th>\n",
       "      <th>date</th>\n",
       "      <th>home_win_odds</th>\n",
       "      <th>draw_odds</th>\n",
       "      <th>away_win_odds</th>\n",
       "      <th>odd_sum</th>\n",
       "    </tr>\n",
       "  </thead>\n",
       "  <tbody>\n",
       "    <tr>\n",
       "      <th>0</th>\n",
       "      <td>EPL2425_001</td>\n",
       "      <td>2024-08-12</td>\n",
       "      <td>4.60</td>\n",
       "      <td>4.93</td>\n",
       "      <td>1.88</td>\n",
       "      <td>11.41</td>\n",
       "    </tr>\n",
       "    <tr>\n",
       "      <th>1</th>\n",
       "      <td>EPL2425_002</td>\n",
       "      <td>2024-08-11</td>\n",
       "      <td>3.09</td>\n",
       "      <td>5.36</td>\n",
       "      <td>2.26</td>\n",
       "      <td>10.71</td>\n",
       "    </tr>\n",
       "    <tr>\n",
       "      <th>2</th>\n",
       "      <td>EPL2425_003</td>\n",
       "      <td>2024-08-11</td>\n",
       "      <td>2.19</td>\n",
       "      <td>5.90</td>\n",
       "      <td>3.06</td>\n",
       "      <td>11.15</td>\n",
       "    </tr>\n",
       "    <tr>\n",
       "      <th>3</th>\n",
       "      <td>EPL2425_004</td>\n",
       "      <td>2024-08-11</td>\n",
       "      <td>3.30</td>\n",
       "      <td>5.06</td>\n",
       "      <td>2.21</td>\n",
       "      <td>10.57</td>\n",
       "    </tr>\n",
       "    <tr>\n",
       "      <th>4</th>\n",
       "      <td>EPL2425_005</td>\n",
       "      <td>2024-08-10</td>\n",
       "      <td>4.18</td>\n",
       "      <td>3.36</td>\n",
       "      <td>2.41</td>\n",
       "      <td>9.95</td>\n",
       "    </tr>\n",
       "  </tbody>\n",
       "</table>\n",
       "</div>"
      ],
      "text/plain": [
       "      match_id        date  home_win_odds  draw_odds  away_win_odds  odd_sum\n",
       "0  EPL2425_001  2024-08-12           4.60       4.93           1.88    11.41\n",
       "1  EPL2425_002  2024-08-11           3.09       5.36           2.26    10.71\n",
       "2  EPL2425_003  2024-08-11           2.19       5.90           3.06    11.15\n",
       "3  EPL2425_004  2024-08-11           3.30       5.06           2.21    10.57\n",
       "4  EPL2425_005  2024-08-10           4.18       3.36           2.41     9.95"
      ]
     },
     "execution_count": 5,
     "metadata": {},
     "output_type": "execute_result"
    }
   ],
   "source": [
    "df_odds_new['odd_sum'] = df_odds_new['home_win_odds'] + df_odds_new['draw_odds'] + df_odds_new['away_win_odds']\n",
    "df_odds_new.head()"
   ]
  },
  {
   "cell_type": "code",
   "execution_count": 6,
   "metadata": {},
   "outputs": [
    {
     "data": {
      "text/plain": [
       "np.float64(10.144184210526317)"
      ]
     },
     "execution_count": 6,
     "metadata": {},
     "output_type": "execute_result"
    }
   ],
   "source": [
    "mean_odd_sum = df_odds_new['odd_sum'].mean()\n",
    "mean_odd_sum"
   ]
  },
  {
   "cell_type": "code",
   "execution_count": 28,
   "metadata": {},
   "outputs": [
    {
     "data": {
      "image/png": "[encoded data removed]",
      "text/plain": [
       "<Figure size 640x480 with 1 Axes>"
      ]
     },
     "metadata": {},
     "output_type": "display_data"
    }
   ],
   "source": [
    "import matplotlib.pyplot as plt\n",
    "\n",
    "df_odds_new['odd_sum'].hist(bins=30, edgecolor='black')\n",
    "plt.title('Decisive-Matches Distribution of Odd Sum')\n",
    "plt.xlabel('Odd Sum')\n",
    "plt.ylabel('Frequency')\n",
    "plt.show()"
   ]
  },
  {
   "cell_type": "code",
   "execution_count": 29,
   "metadata": {},
   "outputs": [
    {
     "data": {
      "text/html": [
       "<div>\n",
       "<style scoped>\n",
       "    .dataframe tbody tr th:only-of-type {\n",
       "        vertical-align: middle;\n",
       "    }\n",
       "\n",
       "    .dataframe tbody tr th {\n",
       "        vertical-align: top;\n",
       "    }\n",
       "\n",
       "    .dataframe thead th {\n",
       "        text-align: right;\n",
       "    }\n",
       "</style>\n",
       "<table border=\"1\" class=\"dataframe\">\n",
       "  <thead>\n",
       "    <tr style=\"text-align: right;\">\n",
       "      <th></th>\n",
       "      <th>match_id</th>\n",
       "      <th>date</th>\n",
       "      <th>home_team</th>\n",
       "      <th>away_team</th>\n",
       "      <th>result</th>\n",
       "    </tr>\n",
       "  </thead>\n",
       "  <tbody>\n",
       "    <tr>\n",
       "      <th>0</th>\n",
       "      <td>EPL2425_001</td>\n",
       "      <td>2024-08-12</td>\n",
       "      <td>Everton</td>\n",
       "      <td>Liverpool</td>\n",
       "      <td>1</td>\n",
       "    </tr>\n",
       "    <tr>\n",
       "      <th>1</th>\n",
       "      <td>EPL2425_002</td>\n",
       "      <td>2024-08-11</td>\n",
       "      <td>West Ham</td>\n",
       "      <td>Newcastle</td>\n",
       "      <td>2</td>\n",
       "    </tr>\n",
       "    <tr>\n",
       "      <th>2</th>\n",
       "      <td>EPL2425_003</td>\n",
       "      <td>2024-08-11</td>\n",
       "      <td>Chelsea</td>\n",
       "      <td>Brighton</td>\n",
       "      <td>2</td>\n",
       "    </tr>\n",
       "    <tr>\n",
       "      <th>3</th>\n",
       "      <td>EPL2425_004</td>\n",
       "      <td>2024-08-11</td>\n",
       "      <td>Burnley</td>\n",
       "      <td>Arsenal</td>\n",
       "      <td>0</td>\n",
       "    </tr>\n",
       "    <tr>\n",
       "      <th>4</th>\n",
       "      <td>EPL2425_005</td>\n",
       "      <td>2024-08-10</td>\n",
       "      <td>Brentford</td>\n",
       "      <td>Fulham</td>\n",
       "      <td>2</td>\n",
       "    </tr>\n",
       "  </tbody>\n",
       "</table>\n",
       "</div>"
      ],
      "text/plain": [
       "      match_id        date  home_team  away_team  result\n",
       "0  EPL2425_001  2024-08-12    Everton  Liverpool       1\n",
       "1  EPL2425_002  2024-08-11   West Ham  Newcastle       2\n",
       "2  EPL2425_003  2024-08-11    Chelsea   Brighton       2\n",
       "3  EPL2425_004  2024-08-11    Burnley    Arsenal       0\n",
       "4  EPL2425_005  2024-08-10  Brentford     Fulham       2"
      ]
     },
     "execution_count": 29,
     "metadata": {},
     "output_type": "execute_result"
    }
   ],
   "source": [
    "df_matches_new = pd.read_csv('../project/data/epl_matches_2024_25.csv')\n",
    "df_matches_new.head()"
   ]
  },
  {
   "cell_type": "code",
   "execution_count": 30,
   "metadata": {},
   "outputs": [],
   "source": [
    "df_matches_new = df_matches_new[df_matches_new['result'] != 1]\n",
    "\n",
    "# 280 decisive matches "
   ]
  },
  {
   "cell_type": "code",
   "execution_count": 31,
   "metadata": {},
   "outputs": [
    {
     "data": {
      "text/html": [
       "<div>\n",
       "<style scoped>\n",
       "    .dataframe tbody tr th:only-of-type {\n",
       "        vertical-align: middle;\n",
       "    }\n",
       "\n",
       "    .dataframe tbody tr th {\n",
       "        vertical-align: top;\n",
       "    }\n",
       "\n",
       "    .dataframe thead th {\n",
       "        text-align: right;\n",
       "    }\n",
       "</style>\n",
       "<table border=\"1\" class=\"dataframe\">\n",
       "  <thead>\n",
       "    <tr style=\"text-align: right;\">\n",
       "      <th></th>\n",
       "      <th>match_id</th>\n",
       "      <th>date</th>\n",
       "      <th>home_team</th>\n",
       "      <th>away_team</th>\n",
       "      <th>result</th>\n",
       "      <th>result_lbl</th>\n",
       "    </tr>\n",
       "  </thead>\n",
       "  <tbody>\n",
       "    <tr>\n",
       "      <th>1</th>\n",
       "      <td>EPL2425_002</td>\n",
       "      <td>2024-08-11</td>\n",
       "      <td>West Ham</td>\n",
       "      <td>Newcastle</td>\n",
       "      <td>2</td>\n",
       "      <td>Away-Win</td>\n",
       "    </tr>\n",
       "    <tr>\n",
       "      <th>2</th>\n",
       "      <td>EPL2425_003</td>\n",
       "      <td>2024-08-11</td>\n",
       "      <td>Chelsea</td>\n",
       "      <td>Brighton</td>\n",
       "      <td>2</td>\n",
       "      <td>Away-Win</td>\n",
       "    </tr>\n",
       "    <tr>\n",
       "      <th>3</th>\n",
       "      <td>EPL2425_004</td>\n",
       "      <td>2024-08-11</td>\n",
       "      <td>Burnley</td>\n",
       "      <td>Arsenal</td>\n",
       "      <td>0</td>\n",
       "      <td>Home-Win</td>\n",
       "    </tr>\n",
       "    <tr>\n",
       "      <th>4</th>\n",
       "      <td>EPL2425_005</td>\n",
       "      <td>2024-08-10</td>\n",
       "      <td>Brentford</td>\n",
       "      <td>Fulham</td>\n",
       "      <td>2</td>\n",
       "      <td>Away-Win</td>\n",
       "    </tr>\n",
       "    <tr>\n",
       "      <th>5</th>\n",
       "      <td>EPL2425_006</td>\n",
       "      <td>2024-08-10</td>\n",
       "      <td>Nottingham Forest</td>\n",
       "      <td>Luton</td>\n",
       "      <td>0</td>\n",
       "      <td>Home-Win</td>\n",
       "    </tr>\n",
       "  </tbody>\n",
       "</table>\n",
       "</div>"
      ],
      "text/plain": [
       "      match_id        date          home_team  away_team  result result_lbl\n",
       "1  EPL2425_002  2024-08-11           West Ham  Newcastle       2   Away-Win\n",
       "2  EPL2425_003  2024-08-11            Chelsea   Brighton       2   Away-Win\n",
       "3  EPL2425_004  2024-08-11            Burnley    Arsenal       0   Home-Win\n",
       "4  EPL2425_005  2024-08-10          Brentford     Fulham       2   Away-Win\n",
       "5  EPL2425_006  2024-08-10  Nottingham Forest      Luton       0   Home-Win"
      ]
     },
     "execution_count": 31,
     "metadata": {},
     "output_type": "execute_result"
    }
   ],
   "source": [
    "df_matches_new['result_lbl'] = df_matches_new['result'].apply(lambda x: 'Away-Win' if x == 2 else 'Home-Win' if x == 0 else 'Draw')\n",
    "df_matches_new.head()"
   ]
  },
  {
   "cell_type": "code",
   "execution_count": 32,
   "metadata": {},
   "outputs": [
    {
     "data": {
      "text/plain": [
       "(280, 11)"
      ]
     },
     "execution_count": 32,
     "metadata": {},
     "output_type": "execute_result"
    }
   ],
   "source": [
    "df_combined = pd.merge(df_matches_new, df_odds_new, on='match_id')\n",
    "df_combined.shape"
   ]
  },
  {
   "cell_type": "markdown",
   "metadata": {},
   "source": [
    "# Odds-sum Scatter Plot\n",
    "\n",
    "### Dataset: decisive-matches\n",
    "- Contains Only Decisive Matches\n",
    "- shape: ( 280, 11 )\n",
    "\n",
    "### Plot Characteristics\n",
    "\n",
    "- x-axis: Match-index, essentially meaningless\n",
    "- y-axis: Odd's sum of each Match. $ O_{Tot} = O_H + O_A + O_D$\n",
    "\n",
    "$$ O_n := \\text{ Odds for (n) team, where } n = \\{\\text{(H):Home, (A): Away, (D): Draw}\\} $$\n",
    "\n",
    "\n"
   ]
  },
  {
   "cell_type": "code",
   "execution_count": 33,
   "metadata": {},
   "outputs": [
    {
     "data": {
      "image/png": "[encoded data removed]",
      "text/plain": [
       "<Figure size 640x480 with 1 Axes>"
      ]
     },
     "metadata": {},
     "output_type": "display_data"
    }
   ],
   "source": [
    "import matplotlib.pyplot as plt\n",
    "\n",
    "# Define colors based on result_lbl\n",
    "colors = df_combined['result_lbl'].apply(lambda x: 'blue' if x == 'Home-Win' else 'red')\n",
    "\n",
    "# Create scatter plot\n",
    "plt.scatter(df_combined.index, df_combined['odd_sum'], c=colors)\n",
    "plt.title('Scatter Plot of Odd Sum by Match Result')\n",
    "plt.xlabel('Match Index')\n",
    "plt.ylabel('Odd Sum')\n",
    "plt.show()"
   ]
  },
  {
   "cell_type": "code",
   "execution_count": 4,
   "metadata": {},
   "outputs": [],
   "source": [
    "import pandas as pd\n",
    "# Read the data from the text file\n",
    "with open('Data/message01.txt', 'r') as file:\n",
    "    data = file.readlines()\n",
    "\n",
    "# Convert the data to a DataFrame\n",
    "df_data = pd.DataFrame(data)\n",
    "\n",
    "# Export the DataFrame to a CSV file\n",
    "df_data.to_csv('dataC.csv', index=False)"
   ]
  },
  {
   "cell_type": "code",
   "execution_count": null,
   "metadata": {},
   "outputs": [],
   "source": []
  },
  {
   "cell_type": "code",
   "execution_count": null,
   "metadata": {},
   "outputs": [],
   "source": []
  },
  {
   "cell_type": "code",
   "execution_count": null,
   "metadata": {},
   "outputs": [],
   "source": []
  },
  {
   "cell_type": "code",
   "execution_count": null,
   "metadata": {},
   "outputs": [],
   "source": []
  },
  {
   "cell_type": "code",
   "execution_count": null,
   "metadata": {},
   "outputs": [],
   "source": []
  }
 ],
 "metadata": {
  "kernelspec": {
   "display_name": ".venv",
   "language": "python",
   "name": "python3"
  },
  "language_info": {
   "codemirror_mode": {
    "name": "ipython",
    "version": 3
   },
   "file_extension": ".py",
   "mimetype": "text/x-python",
   "name": "python",
   "nbconvert_exporter": "python",
   "pygments_lexer": "ipython3",
   "version": "3.12.8"
  }
 },
 "nbformat": 4,
 "nbformat_minor": 2
}
