{
 "cells": [
  {
   "cell_type": "code",
   "execution_count": 3,
   "metadata": {},
   "outputs": [],
   "source": [
    "import pandas as pd\n",
    "import numpy as np\n",
    "import tensorflow as tf\n",
    "from datetime import datetime\n",
    "import logging\n",
    "from pathlib import Path\n",
    "from typing import Tuple, Dict, Optional\n",
    "import os\n",
    "\n",
    "\n",
    "from model_initialization import initialize_and_train_model\n",
    "from backtest import EPLBacktester\n",
    "from betting_model import AdvancedBettingNeuralWrapper\n",
    "from base_algo import BaseAlgorithm\n",
    "from analysis import analyze_backtest_results\n",
    "\n",
    "def load_and_prepare_data(matches_path, odds_path):\n",
    "    data_dir = Path(\"data/\")\n",
    "    matches_full_path = data_dir / matches_path\n",
    "    odds_full_path = data_dir / odds_path\n",
    "    \n",
    "    # Check if files exist\n",
    "    if not matches_full_path.exists():\n",
    "        raise FileNotFoundError(f\"Matches file not found: {matches_full_path}\")\n",
    "    if not odds_full_path.exists():\n",
    "        raise FileNotFoundError(f\"Odds file not found: {odds_full_path}\")\n",
    "    \n",
    "    # Load data\n",
    "    try:\n",
    "        matches_df = pd.read_csv(matches_full_path)\n",
    "        odds_df = pd.read_csv(odds_full_path)\n",
    "    except Exception as e:\n",
    "        raise Exception(f\"Error loading data files: {str(e)}\")\n",
    "    \n",
    "    # Validate required columns\n",
    "    required_match_cols = ['date', 'home_team', 'away_team', 'result', 'match_id']\n",
    "    required_odds_cols = ['date', 'match_id', 'home_win_odds', 'draw_odds', 'away_win_odds']\n",
    "    \n",
    "    missing_match_cols = [col for col in required_match_cols if col not in matches_df.columns]\n",
    "    missing_odds_cols = [col for col in required_odds_cols if col not in odds_df.columns]\n",
    "    \n",
    "    if missing_match_cols:\n",
    "        raise ValueError(f\"Missing required columns in matches file: {missing_match_cols}\")\n",
    "    if missing_odds_cols:\n",
    "        raise ValueError(f\"Missing required columns in odds file: {missing_odds_cols}\")\n",
    "    \n",
    "    # Convert dates\n",
    "    matches_df['date'] = pd.to_datetime(matches_df['date'])\n",
    "    odds_df['date'] = pd.to_datetime(odds_df['date'])\n",
    "    \n",
    "    # Sort chronologically\n",
    "    matches_df = matches_df.sort_values('date')\n",
    "    odds_df = odds_df.sort_values('date')\n",
    "    \n",
    "    # Ensure match_ids align\n",
    "    if not set(matches_df['match_id']).intersection(odds_df['match_id']):\n",
    "        raise ValueError(\"No matching match_ids between matches and odds data\")\n",
    "    \n",
    "    return matches_df, odds_df\n",
    "\n"
   ]
  },
  {
   "cell_type": "code",
   "execution_count": 4,
   "metadata": {},
   "outputs": [],
   "source": [
    "matches_df, odds_df = load_and_prepare_data(\n",
    "    'epl_matches_2024_25.csv',\n",
    "    'epl_odds_2024_25.csv'\n",
    ")\n",
    "\n",
    "algo = BaseAlgorithm(matches_df)"
   ]
  },
  {
   "cell_type": "code",
   "execution_count": null,
   "metadata": {},
   "outputs": [],
   "source": []
  }
 ],
 "metadata": {
  "kernelspec": {
   "display_name": ".venv",
   "language": "python",
   "name": "python3"
  },
  "language_info": {
   "codemirror_mode": {
    "name": "ipython",
    "version": 3
   },
   "file_extension": ".py",
   "mimetype": "text/x-python",
   "name": "python",
   "nbconvert_exporter": "python",
   "pygments_lexer": "ipython3",
   "version": "3.12.8"
  }
 },
 "nbformat": 4,
 "nbformat_minor": 2
}
